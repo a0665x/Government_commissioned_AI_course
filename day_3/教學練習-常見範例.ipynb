{
 "cells": [
  {
   "cell_type": "markdown",
   "metadata": {},
   "source": [
    "# 用for循環1~100求和"
   ]
  },
  {
   "cell_type": "code",
   "execution_count": null,
   "metadata": {},
   "outputs": [
    {
     "name": "stdout",
     "output_type": "stream",
     "text": [
      "2550\n"
     ]
    }
   ],
   "source": [
    "sum = 0\n",
    "for x in range(1, 101):\n",
    "    if x % 2 == 0:\n",
    "        sum += x\n",
    "print(sum)"
   ]
  },
  {
   "cell_type": "markdown",
   "metadata": {},
   "source": [
    "# 用for循環1~100之间的偶数求和"
   ]
  },
  {
   "cell_type": "code",
   "execution_count": null,
   "metadata": {},
   "outputs": [],
   "source": [
    "sum = 0\n",
    "for x in range(2, 101, 2):\n",
    "    sum += x\n",
    "print(sum)"
   ]
  },
  {
   "cell_type": "markdown",
   "metadata": {},
   "source": [
    "# 输入非负整数n计算n!"
   ]
  },
  {
   "cell_type": "code",
   "execution_count": null,
   "metadata": {},
   "outputs": [],
   "source": [
    "n = int(input('n = '))\n",
    "result = 1\n",
    "for x in range(1, n + 1):\n",
    "    result *= x\n",
    "print('%d! = %d' % (n, result))"
   ]
  },
  {
   "cell_type": "markdown",
   "metadata": {},
   "source": [
    "# 输入一個正整數判斷事不是質數"
   ]
  },
  {
   "cell_type": "code",
   "execution_count": 6,
   "metadata": {},
   "outputs": [
    {
     "name": "stdout",
     "output_type": "stream",
     "text": [
      "请輸入一個正整數: 7\n",
      "7是質数\n"
     ]
    }
   ],
   "source": [
    "from math import sqrt\n",
    "\n",
    "num = int(input('请輸入一個正整數: '))\n",
    "end = int(sqrt(num))\n",
    "is_prime = True\n",
    "for x in range(2, end + 1):\n",
    "    if num % x == 0:\n",
    "        is_prime = False\n",
    "        break\n",
    "if is_prime and num != 1:\n",
    "    print('%d是質数' % num)\n",
    "else:\n",
    "    print('%d不是質数' % num)"
   ]
  },
  {
   "cell_type": "markdown",
   "metadata": {},
   "source": [
    "# 打印出各種三角形"
   ]
  },
  {
   "cell_type": "code",
   "execution_count": 7,
   "metadata": {},
   "outputs": [
    {
     "name": "stdout",
     "output_type": "stream",
     "text": [
      "請輸入行數: 4\n",
      "*\n",
      "**\n",
      "***\n",
      "****\n",
      "   *\n",
      "  **\n",
      " ***\n",
      "****\n",
      "   *\n",
      "  ***\n",
      " *****\n",
      "*******\n"
     ]
    }
   ],
   "source": [
    "\n",
    "# *\n",
    "# **\n",
    "# ***\n",
    "# ****\n",
    "# *****\n",
    "\n",
    "#     *\n",
    "#    **\n",
    "#   ***\n",
    "#  ****\n",
    "# *****\n",
    "\n",
    "#     *\n",
    "#    ***\n",
    "#   *****\n",
    "#  *******\n",
    "# *********\n",
    "\n",
    "\n",
    "row = int(input('請輸入行數: '))\n",
    "for i in range(row):\n",
    "    for _ in range(i + 1):\n",
    "        print('*', end='')  # end='' 用來換行用\n",
    "    print()\n",
    "\n",
    "for i in range(row):\n",
    "    for j in range(row):\n",
    "        if j < row - i - 1:\n",
    "            print(' ', end='')\n",
    "        else:\n",
    "            print('*', end='')\n",
    "    print()\n",
    "\n",
    "for i in range(row):\n",
    "    for _ in range(row - i - 1):\n",
    "        print(' ', end='')\n",
    "    for _ in range(2 * i + 1):\n",
    "        print('*', end='')\n",
    "    print()\n"
   ]
  },
  {
   "cell_type": "markdown",
   "metadata": {},
   "source": [
    "# 用while循環1~100求和"
   ]
  },
  {
   "cell_type": "code",
   "execution_count": 1,
   "metadata": {},
   "outputs": [
    {
     "name": "stdout",
     "output_type": "stream",
     "text": [
      "5050\n"
     ]
    }
   ],
   "source": [
    "sum = 0\n",
    "num = 1\n",
    "while num <= 100:\n",
    "    sum += num\n",
    "    num += 1\n",
    "print(sum)"
   ]
  },
  {
   "cell_type": "code",
   "execution_count": 2,
   "metadata": {},
   "outputs": [
    {
     "name": "stdout",
     "output_type": "stream",
     "text": [
      "202.22222222222223\n"
     ]
    }
   ],
   "source": [
    "#求平均\n",
    "data = [100,300,500,150,450,30,65,185,40]\n",
    "mean = sum(data)/len(data)\n",
    "print(mean)"
   ]
  },
  {
   "cell_type": "markdown",
   "metadata": {},
   "source": [
    "# 練習1:猜數字"
   ]
  },
  {
   "cell_type": "code",
   "execution_count": 15,
   "metadata": {},
   "outputs": [
    {
     "name": "stdout",
     "output_type": "stream",
     "text": [
      "請輸入: 55\n",
      "小一點\n",
      "請輸入: 30\n",
      "大一點\n",
      "請輸入: 45\n",
      "小一點\n",
      "請輸入: 40\n",
      "大一點\n",
      "請輸入: 42\n",
      "恭喜你猜對了!\n",
      "你總共猜了5次\n"
     ]
    }
   ],
   "source": [
    "import random\n",
    "\n",
    "answer = random.randint(1, 100)\n",
    "counter = 0\n",
    "while True:\n",
    "    counter += 1\n",
    "    number = int(input('請輸入: '))\n",
    "    if number < answer:\n",
    "        print('大一點')\n",
    "    elif number > answer:\n",
    "        print('小一點')\n",
    "    else:\n",
    "        print('恭喜你猜對了!')\n",
    "        break\n",
    "print('你總共猜了%d次' % counter)\n",
    "if counter > 7:\n",
    "    print('雖然你猜中了～但用了太多運氣,可見你平常很衰')"
   ]
  },
  {
   "cell_type": "code",
   "execution_count": null,
   "metadata": {},
   "outputs": [],
   "source": []
  },
  {
   "cell_type": "code",
   "execution_count": 14,
   "metadata": {},
   "outputs": [
    {
     "data": {
      "text/plain": [
       "'normal'"
      ]
     },
     "execution_count": 14,
     "metadata": {},
     "output_type": "execute_result"
    }
   ],
   "source": [
    "def BMI_Cal(weight,heigh): #(80kg,1.85m)\n",
    "    BMI_value = weight / (heigh**2)\n",
    "    return BMI_value\n",
    "        \n",
    "BMI_Cal(88,1.85)    \n",
    "\n",
    "def training_body( weight , run_time_minute ):\n",
    "    weight = weight - run_time_minute/20\n",
    "    return weight\n",
    "training_body(88,20)  \n",
    "\n",
    "def judgment(gender , BMI_value , waistline):\n",
    "    if BMI_value < 18.5:\n",
    "        return 'overlite'\n",
    "    elif 18.5 <= BMI_value < 24 :\n",
    "        return 'normal'\n",
    "    elif 24 <= BMI_value < 27:\n",
    "        if gender =='Male' and waistline>=90:\n",
    "            return 'overweight'\n",
    "        elif ender =='Male' and waistline <90:\n",
    "            return '(Male) normal but BMI value high a little bit'\n",
    "        if gender =='Female' and waistline>=80:\n",
    "            return 'overweight'\n",
    "        elif ender =='Female' and waistline <80:\n",
    "            return '(Female) normal but BMI value high a little bit'\n",
    "        \n",
    "    elif  BMI_value >= 27 :\n",
    "        return 'Severely overweight, beware of cardiovascular disease'\n",
    "               \n",
    "judgment('Feale' , 20 , 90)       \n",
    "\n",
    "#某人體中原先是75公斤"
   ]
  },
  {
   "cell_type": "code",
   "execution_count": null,
   "metadata": {},
   "outputs": [],
   "source": []
  },
  {
   "cell_type": "code",
   "execution_count": null,
   "metadata": {},
   "outputs": [],
   "source": []
  },
  {
   "cell_type": "code",
   "execution_count": null,
   "metadata": {},
   "outputs": [],
   "source": []
  },
  {
   "cell_type": "code",
   "execution_count": null,
   "metadata": {},
   "outputs": [],
   "source": []
  },
  {
   "cell_type": "code",
   "execution_count": null,
   "metadata": {},
   "outputs": [],
   "source": []
  },
  {
   "cell_type": "code",
   "execution_count": null,
   "metadata": {},
   "outputs": [],
   "source": []
  },
  {
   "cell_type": "code",
   "execution_count": null,
   "metadata": {},
   "outputs": [],
   "source": []
  }
 ],
 "metadata": {
  "kernelspec": {
   "display_name": "Python 3",
   "language": "python",
   "name": "python3"
  },
  "language_info": {
   "codemirror_mode": {
    "name": "ipython",
    "version": 3
   },
   "file_extension": ".py",
   "mimetype": "text/x-python",
   "name": "python",
   "nbconvert_exporter": "python",
   "pygments_lexer": "ipython3",
   "version": "3.7.11"
  }
 },
 "nbformat": 4,
 "nbformat_minor": 2
}
