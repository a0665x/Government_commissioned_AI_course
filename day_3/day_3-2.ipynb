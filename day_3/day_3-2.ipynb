{
 "cells": [
  {
   "cell_type": "code",
   "execution_count": 4,
   "id": "0b7ccf8c",
   "metadata": {},
   "outputs": [],
   "source": [
    "#如果你的def 在上一層的某個資料夾路徑, 你要將sys 裡面的路徑加入'..'\n",
    "# 讓系統搜索資料夾十也可以網上一層搜索\n",
    "import sys\n",
    "sys.path.append('..')\n",
    "from day_2.def_file.my_group_fun import my_add_fun"
   ]
  },
  {
   "cell_type": "code",
   "execution_count": 16,
   "id": "b1b138ce",
   "metadata": {
    "collapsed": true
   },
   "outputs": [
    {
     "name": "stdout",
     "output_type": "stream",
     "text": [
      "[[1. 2. 3.]\n",
      " [4. 5. 6.]]\n",
      "矩陣的形狀: (2, 3)\n",
      "變更矩陣的形狀:\n",
      " [[1.]\n",
      " [2.]\n",
      " [3.]\n",
      " [4.]\n",
      " [5.]\n",
      " [6.]]\n"
     ]
    },
    {
     "name": "stderr",
     "output_type": "stream",
     "text": [
      "C:\\Users\\10903059\\AppData\\Local\\Temp/ipykernel_4344/64927061.py:3: DeprecationWarning: `np.float` is a deprecated alias for the builtin `float`. To silence this warning, use `float` by itself. Doing this will not modify any behavior and is safe. If you specifically wanted the numpy scalar type, use `np.float64` here.\n",
      "Deprecated in NumPy 1.20; for more details and guidance: https://numpy.org/devdocs/release/1.20.0-notes.html#deprecations\n",
      "  array_1 = np.array([[1,2,3],[4,5,6]],dtype = np.float)\n"
     ]
    },
    {
     "data": {
      "text/plain": [
       "(2, 2, 3)"
      ]
     },
     "execution_count": 16,
     "metadata": {},
     "output_type": "execute_result"
    }
   ],
   "source": [
    "#矩陣介紹/查找類別,屬性\n",
    "import numpy as np\n",
    "array_1 = np.array([[1,2,3],[4,5,6]],dtype = np.float)\n",
    "print(array_1)\n",
    "print('矩陣的形狀:',array_1.shape)\n",
    "array_2 = array_1.reshape((6,1))\n",
    "print('變更矩陣的形狀:\\n',array_2)\n",
    "\n",
    "#看一下三維\n",
    "array_3 = np.array([[[1,2,3],[4,5,6]],[[0,0,0],[0,0,0]]])\n",
    "array_3.shape"
   ]
  },
  {
   "cell_type": "code",
   "execution_count": 49,
   "id": "115b9997",
   "metadata": {},
   "outputs": [
    {
     "name": "stdout",
     "output_type": "stream",
     "text": [
      "[[-6. -5. -4.]\n",
      " [-3. -2. -1.]]\n"
     ]
    },
    {
     "data": {
      "text/plain": [
       "array([-5., -4.])"
      ]
     },
     "execution_count": 49,
     "metadata": {},
     "output_type": "execute_result"
    }
   ],
   "source": [
    "#轉置矩陣\n",
    "array_2.T\n",
    "#單位矩陣\n",
    "e = np.eye(4,4)\n",
    "#單位矩陣常用在轉換維度向量化\n",
    "list_a = [10,20,30,40]\n",
    "list_a*e\n",
    "#0/1矩陣  通常可以針對當維度整個資料統一做運算\n",
    "np.zeros((4,4))\n",
    "np.ones((4,4))\n",
    "array_4 = array_1-(np.ones((2,3))*7)\n",
    "#矩陣一樣可以像list一樣去指定位置\n",
    "print(array_4)\n",
    "array_4[0,1:] #位置 [row位置 , column位置]\n",
    "#學習重點:\n",
    "# 1.了解了.T  / .eye  /.shape  /.zeros / .ones功能\n",
    "# 2. 了解到了array矩陣可以去指定某個範圍的值\n"
   ]
  },
  {
   "cell_type": "code",
   "execution_count": 69,
   "id": "772475fd",
   "metadata": {},
   "outputs": [
    {
     "name": "stdout",
     "output_type": "stream",
     "text": [
      "0.27669084345965644\n",
      "0.3445514290754595\n",
      "0.5370999150774105\n",
      "0.45157765905703084\n",
      "0.5021578318134393\n"
     ]
    },
    {
     "data": {
      "text/plain": [
       "[0.27669084345965644,\n",
       " 0.3445514290754595,\n",
       " 0.5370999150774105,\n",
       " 0.45157765905703084,\n",
       " 0.5021578318134393]"
      ]
     },
     "execution_count": 69,
     "metadata": {},
     "output_type": "execute_result"
    }
   ],
   "source": [
    "#舉個例子,要將3為資料去針對深度的維度取平均,並且轉乘list\n",
    "#2維平均\n",
    "my_data = np.random.rand(5,8)\n",
    "print('我的數據:\\n',my_data ,'\\n數據平均:\\n',np.mean(my_data))\n",
    "my_data_std = my_data.std()\n",
    "print('數據標準差:',my_data_std)\n",
    "median = np.median(my_data)\n",
    "print('數據中位數:',median)\n",
    "#處理3維數據:\n",
    "my_data_3d = np.random.rand(5,3,3)\n",
    "my_data_3d.shape\n",
    "dim_1 = my_data_3d.shape[0]\n",
    "empty = []\n",
    "for i in range(dim_1): #每走過每個深度的2d array\n",
    "    m = my_data_3d[i:i+1,:,:].mean()  #[深度位置,2d的row位置,2d的column位置]\n",
    "    print(m)\n",
    "    empty.append(m)\n",
    "empty"
   ]
  },
  {
   "cell_type": "code",
   "execution_count": 79,
   "id": "3f70fa69",
   "metadata": {
    "collapsed": true
   },
   "outputs": [
    {
     "name": "stdout",
     "output_type": "stream",
     "text": [
      "直方向做堆疊:\n",
      " [[0.34310972 0.07894178 0.94569309]\n",
      " [0.59107777 0.16144966 0.26764162]\n",
      " [0.99086237 0.80436193 0.60602717]\n",
      " [0.         0.         0.        ]\n",
      " [0.         0.         0.        ]\n",
      " [0.         0.         0.        ]]\n",
      "===============\n",
      "直方向做堆疊:\n",
      " [[0.34310972 0.07894178 0.94569309 0.         0.         0.        ]\n",
      " [0.59107777 0.16144966 0.26764162 0.         0.         0.        ]\n",
      " [0.99086237 0.80436193 0.60602717 0.         0.         0.        ]]\n",
      "==================以上矩陣堆疊都不增加維度======================\n",
      "維度形狀: (2, 3, 3)\n",
      "使用stack增加深度的堆疊:\n",
      " [[[0.34310972 0.07894178 0.94569309]\n",
      "  [0.59107777 0.16144966 0.26764162]\n",
      "  [0.99086237 0.80436193 0.60602717]]\n",
      "\n",
      " [[0.         0.         0.        ]\n",
      "  [0.         0.         0.        ]\n",
      "  [0.         0.         0.        ]]]\n"
     ]
    }
   ],
   "source": [
    "#假這你有額外的數據想要添加到某個特定矩陣  concatenate / stack\n",
    "a_r = np.random.rand(3,3)\n",
    "b_r = np.zeros((3,3))\n",
    "con = np.concatenate((a_r,b_r),axis = 0) #axis:針對哪個方向做拼接\n",
    "con.shape\n",
    "vs = np.vstack((a_r,b_r))\n",
    "print('直方向做堆疊:\\n',vs)\n",
    "print('='*15)\n",
    "hs = np.hstack((a_r,b_r))\n",
    "print('直方向做堆疊:\\n',hs)\n",
    "print('==================以上矩陣堆疊都不增加維度======================')\n",
    "ss = np.stack((a_r,b_r))\n",
    "print('維度形狀:',ss.shape)\n",
    "print('使用stack增加深度的堆疊:\\n',ss)"
   ]
  },
  {
   "cell_type": "code",
   "execution_count": 99,
   "id": "34759503",
   "metadata": {},
   "outputs": [
    {
     "data": {
      "text/html": [
       "<div>\n",
       "<style scoped>\n",
       "    .dataframe tbody tr th:only-of-type {\n",
       "        vertical-align: middle;\n",
       "    }\n",
       "\n",
       "    .dataframe tbody tr th {\n",
       "        vertical-align: top;\n",
       "    }\n",
       "\n",
       "    .dataframe thead th {\n",
       "        text-align: right;\n",
       "    }\n",
       "</style>\n",
       "<table border=\"1\" class=\"dataframe\">\n",
       "  <thead>\n",
       "    <tr style=\"text-align: right;\">\n",
       "      <th></th>\n",
       "      <th>key</th>\n",
       "      <th>col_1</th>\n",
       "      <th>col_2</th>\n",
       "    </tr>\n",
       "  </thead>\n",
       "  <tbody>\n",
       "    <tr>\n",
       "      <th>0</th>\n",
       "      <td>k0</td>\n",
       "      <td>1</td>\n",
       "      <td>a</td>\n",
       "    </tr>\n",
       "    <tr>\n",
       "      <th>1</th>\n",
       "      <td>k1</td>\n",
       "      <td>2</td>\n",
       "      <td>b</td>\n",
       "    </tr>\n",
       "  </tbody>\n",
       "</table>\n",
       "</div>"
      ],
      "text/plain": [
       "  key  col_1 col_2\n",
       "0  k0      1     a\n",
       "1  k1      2     b"
      ]
     },
     "execution_count": 99,
     "metadata": {},
     "output_type": "execute_result"
    }
   ],
   "source": [
    "#新功能pandas (可以想成是處理excel的工具包)\n",
    "import pandas as pd\n",
    "import numpy as np\n",
    "#先做一個dataframe\n",
    "df1 = pd.DataFrame({'key' : ['k0','k1','k2','k3'],\n",
    "                 'col_1': [1,2,3,4],\n",
    "                 'col_2': ['a','b','c','d']})\n",
    "df2 = pd.DataFrame(np.ones((4,3)),columns = ['col1','col2','col3'])\n",
    "df2.values  #顯示表格內容\n",
    "df2.columns #顯示columns\n",
    "df\n",
    "df3 = df1[0:2][:]  #df[row起點:row終點][col起點:col終點]\n",
    "df3\n",
    "#學習重點:\n",
    "#1. 了解了Dataframe 他吃的型態,可以是(np,columns)  或者是用字典的方式把column跟value 直接寫一起\n",
    "#2. 可以使用.values .columns 直接看表單的內容以及columns\n",
    "#3. df 要去查找位置,跟np有點不一樣,df後面是跟兩個[],df[row起點:row終點][col起點:col終點]"
   ]
  },
  {
   "cell_type": "code",
   "execution_count": 109,
   "id": "a9c69736",
   "metadata": {},
   "outputs": [
    {
     "data": {
      "text/html": [
       "<div>\n",
       "<style scoped>\n",
       "    .dataframe tbody tr th:only-of-type {\n",
       "        vertical-align: middle;\n",
       "    }\n",
       "\n",
       "    .dataframe tbody tr th {\n",
       "        vertical-align: top;\n",
       "    }\n",
       "\n",
       "    .dataframe thead th {\n",
       "        text-align: right;\n",
       "    }\n",
       "</style>\n",
       "<table border=\"1\" class=\"dataframe\">\n",
       "  <thead>\n",
       "    <tr style=\"text-align: right;\">\n",
       "      <th></th>\n",
       "      <th>key</th>\n",
       "      <th>col_1</th>\n",
       "      <th>col_2</th>\n",
       "      <th>col_3</th>\n",
       "    </tr>\n",
       "  </thead>\n",
       "  <tbody>\n",
       "    <tr>\n",
       "      <th>0</th>\n",
       "      <td>6</td>\n",
       "      <td>1</td>\n",
       "      <td>a</td>\n",
       "      <td>6</td>\n",
       "    </tr>\n",
       "    <tr>\n",
       "      <th>1</th>\n",
       "      <td>7</td>\n",
       "      <td>2</td>\n",
       "      <td>b</td>\n",
       "      <td>7</td>\n",
       "    </tr>\n",
       "    <tr>\n",
       "      <th>2</th>\n",
       "      <td>8</td>\n",
       "      <td>3</td>\n",
       "      <td>c</td>\n",
       "      <td>8</td>\n",
       "    </tr>\n",
       "    <tr>\n",
       "      <th>3</th>\n",
       "      <td>9</td>\n",
       "      <td>4</td>\n",
       "      <td>d</td>\n",
       "      <td>9</td>\n",
       "    </tr>\n",
       "  </tbody>\n",
       "</table>\n",
       "</div>"
      ],
      "text/plain": [
       "   key  col_1 col_2  col_3\n",
       "0    6      1     a      6\n",
       "1    7      2     b      7\n",
       "2    8      3     c      8\n",
       "3    9      4     d      9"
      ]
     },
     "execution_count": 109,
     "metadata": {},
     "output_type": "execute_result"
    }
   ],
   "source": [
    "# 新增欄位\n",
    "df1['col_3'] = [6,7,8,9]\n",
    "df1['key'] = [6,7,8,9]\n",
    "#如果df['想要新增的col名'],不存在原有的df 那麼新增的資訊就會加到最右邊那欄"
   ]
  },
  {
   "cell_type": "code",
   "execution_count": 113,
   "id": "bc1ff8ad",
   "metadata": {},
   "outputs": [
    {
     "data": {
      "text/html": [
       "<div>\n",
       "<style scoped>\n",
       "    .dataframe tbody tr th:only-of-type {\n",
       "        vertical-align: middle;\n",
       "    }\n",
       "\n",
       "    .dataframe tbody tr th {\n",
       "        vertical-align: top;\n",
       "    }\n",
       "\n",
       "    .dataframe thead th {\n",
       "        text-align: right;\n",
       "    }\n",
       "</style>\n",
       "<table border=\"1\" class=\"dataframe\">\n",
       "  <thead>\n",
       "    <tr style=\"text-align: right;\">\n",
       "      <th></th>\n",
       "      <th>key</th>\n",
       "      <th>col_1</th>\n",
       "      <th>col_2</th>\n",
       "      <th>col_3</th>\n",
       "      <th>col_new</th>\n",
       "    </tr>\n",
       "  </thead>\n",
       "  <tbody>\n",
       "    <tr>\n",
       "      <th>0</th>\n",
       "      <td>6</td>\n",
       "      <td>1</td>\n",
       "      <td>a</td>\n",
       "      <td>6</td>\n",
       "      <td>101</td>\n",
       "    </tr>\n",
       "    <tr>\n",
       "      <th>1</th>\n",
       "      <td>7</td>\n",
       "      <td>2</td>\n",
       "      <td>b</td>\n",
       "      <td>7</td>\n",
       "      <td>102</td>\n",
       "    </tr>\n",
       "    <tr>\n",
       "      <th>2</th>\n",
       "      <td>8</td>\n",
       "      <td>3</td>\n",
       "      <td>c</td>\n",
       "      <td>8</td>\n",
       "      <td>103</td>\n",
       "    </tr>\n",
       "    <tr>\n",
       "      <th>3</th>\n",
       "      <td>9</td>\n",
       "      <td>4</td>\n",
       "      <td>d</td>\n",
       "      <td>9</td>\n",
       "      <td>104</td>\n",
       "    </tr>\n",
       "  </tbody>\n",
       "</table>\n",
       "</div>"
      ],
      "text/plain": [
       "   key  col_1 col_2  col_3  col_new\n",
       "0    6      1     a      6      101\n",
       "1    7      2     b      7      102\n",
       "2    8      3     c      8      103\n",
       "3    9      4     d      9      104"
      ]
     },
     "execution_count": 113,
     "metadata": {},
     "output_type": "execute_result"
    }
   ],
   "source": [
    "# apply 功能\n",
    "def my_fun_add100(data):\n",
    "    return data+100\n",
    "df1['col_new'] = df1['col_1'].apply(my_fun_add100)\n",
    "#拿取df1裡面的col_1這欄,每一格數據,都直接套用我們自己寫的fun(my_fun_add100) ,套用完之後,把整個col灌到新的col_new中\n",
    "df1"
   ]
  },
  {
   "cell_type": "code",
   "execution_count": 129,
   "id": "1ee2715f",
   "metadata": {},
   "outputs": [
    {
     "data": {
      "image/png": "[encoded data removed]",
      "text/plain": [
       "<Figure size 432x288 with 1 Axes>"
      ]
     },
     "metadata": {
      "needs_background": "light"
     },
     "output_type": "display_data"
    }
   ],
   "source": [
    "# 最終練習,讀取我們要的stock excel 把收盤價讀出來,高於閥值的收盤價以0做取代,然後畫圖\n",
    "import matplotlib.pyplot as plt\n",
    "df = pd.read_csv('./stock.csv')\n",
    "\n",
    "def filter_th(data):\n",
    "    if data>45:\n",
    "        return 0\n",
    "    else:\n",
    "        return data\n",
    "df['new_close'] = df['收盤價'].apply(filter_th)\n",
    "my_data = list(df['new_close'])\n",
    "plt.plot(range(0,len(my_data)),my_data,label = 'my_close_data',c='green')\n",
    "# plt.bar(range(0,len(my_data)),my_data)\n",
    "plt.xlabel('day')\n",
    "plt.ylabel('cloas')\n",
    "plt.legend()\n",
    "plt.show()\n"
   ]
  },
  {
   "cell_type": "code",
   "execution_count": 133,
   "id": "9166c0e3",
   "metadata": {},
   "outputs": [
    {
     "data": {
      "text/plain": [
       "[<matplotlib.lines.Line2D at 0x1a3cb510c70>]"
      ]
     },
     "execution_count": 133,
     "metadata": {},
     "output_type": "execute_result"
    },
    {
     "data": {
      "image/png": "[encoded data removed]",
      "text/plain": [
       "<Figure size 432x288 with 1 Axes>"
      ]
     },
     "metadata": {
      "needs_background": "light"
     },
     "output_type": "display_data"
    }
   ],
   "source": [
    "N = 21\n",
    "# x = np.linspace(0, 10, 11)\n",
    "# y = [3.9, 4.4, 10.8, 10.3, 11.2, 13.1, 14.1,  9.9, 13.9, 15.1, 12.5]\n",
    "x = np.array(range(0,len(my_data)))\n",
    "y = my_data\n",
    "\n",
    "\n",
    "# fit a linear curve an estimate its y-values and their error.\n",
    "a, b = np.polyfit(x, y, deg=1)\n",
    "y_est = a * x + b\n",
    "y_err = x.std() * np.sqrt(1/len(x) +\n",
    "                          (x - x.mean())**2 / np.sum((x - x.mean())**2))\n",
    "\n",
    "fig, ax = plt.subplots()\n",
    "ax.plot(x, y_est, '-')\n",
    "ax.fill_between(x, y_est - y_err, y_est + y_err, alpha=0.2)\n",
    "ax.plot(x, y, 'o', color='tab:brown')"
   ]
  },
  {
   "cell_type": "code",
   "execution_count": null,
   "id": "cf639abe",
   "metadata": {},
   "outputs": [],
   "source": [
    "#作業\n",
    "# 把stock 用apply 自己做一個針對收盤價,去做一個移動平均 (slide windows = 3),並且畫圖(折線圖)\n"
   ]
  }
 ],
 "metadata": {
  "kernelspec": {
   "display_name": "Python 3 (ipykernel)",
   "language": "python",
   "name": "python3"
  },
  "language_info": {
   "codemirror_mode": {
    "name": "ipython",
    "version": 3
   },
   "file_extension": ".py",
   "mimetype": "text/x-python",
   "name": "python",
   "nbconvert_exporter": "python",
   "pygments_lexer": "ipython3",
   "version": "3.8.12"
  }
 },
 "nbformat": 4,
 "nbformat_minor": 5
}
