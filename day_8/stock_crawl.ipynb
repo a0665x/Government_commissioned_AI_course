{
 "cells": [
  {
   "cell_type": "code",
   "execution_count": 1,
   "id": "52d81fea",
   "metadata": {},
   "outputs": [],
   "source": [
    "# ta-lib 下載: https://www.lfd.uci.edu/~gohlke/pythonlibs/#ta-lib\n",
    "# win10 下載不同的py版本 whl\n",
    "# pip install xxx.whl\n"
   ]
  },
  {
   "cell_type": "code",
   "execution_count": 8,
   "id": "33c5d3a9",
   "metadata": {
    "scrolled": true
   },
   "outputs": [
    {
     "name": "stdout",
     "output_type": "stream",
     "text": [
      "stocks list (ex:2317,2330,2303)2317\n",
      "month start (ex:2020-01):2022-01\n",
      "month end   (ex:2022-02):2022-08\n",
      "save file path(ex: ./csv_data)./csv_data\n",
      "processing: https://www.twse.com.tw/exchangeReport/STOCK_DAY?response=csv&date=20220101&stockNo=2317\n",
      "processing: https://www.twse.com.tw/exchangeReport/STOCK_DAY?response=csv&date=20220201&stockNo=2317\n",
      "processing: https://www.twse.com.tw/exchangeReport/STOCK_DAY?response=csv&date=20220301&stockNo=2317\n",
      "processing: https://www.twse.com.tw/exchangeReport/STOCK_DAY?response=csv&date=20220401&stockNo=2317\n",
      "processing: https://www.twse.com.tw/exchangeReport/STOCK_DAY?response=csv&date=20220501&stockNo=2317\n",
      "processing: https://www.twse.com.tw/exchangeReport/STOCK_DAY?response=csv&date=20220601&stockNo=2317\n",
      "processing: https://www.twse.com.tw/exchangeReport/STOCK_DAY?response=csv&date=20220701&stockNo=2317\n",
      "processing: https://www.twse.com.tw/exchangeReport/STOCK_DAY?response=csv&date=20220801&stockNo=2317\n",
      "=====================finished 2317 crawl========================================\n"
     ]
    }
   ],
   "source": [
    "import requests\n",
    "import pandas as pd\n",
    "import time\n",
    "import os\n",
    "from io import StringIO # 切割文字換行等功能\n",
    "\n",
    "def truncate(sio):\n",
    "    sio.truncate(0)\n",
    "    sio.seek(0)\n",
    "    return sio\n",
    "\n",
    "class stock:\n",
    "    def __init__(self,save_file_path):\n",
    "        if not os.path.exists(save_file_path):\n",
    "            os.makedirs(save_file_path)\n",
    "        pass\n",
    "\n",
    "    def run(self,stocks_list,months_range,save_file_path):\n",
    "        for stock in stocks_list: #走過每一個股票\n",
    "            #建立好每個股票的空的df \n",
    "            columns = [\"日期\",\"成交股數\",\"成交金額\",\"開盤價\",\"最高價\",\"最低價\",\"收盤價\",\"漲跌價差\",\"成交筆數\"]\n",
    "            my_df = pd.DataFrame(columns = columns)\n",
    "            for m in months_range: #走過每個月分\n",
    "                url = 'https://www.twse.com.tw/exchangeReport/STOCK_DAY?response=csv&date='+ m +'&stockNo='+stock   #m:202208\n",
    "                print('processing:',url)\n",
    "                headers = {'User-Agent': 'Mozilla/5.0 (Windows NT 10.0; Win64; x64) AppleWebKit/537.36 (KHTML, like Gecko) Chrome/98.0.4758.102 Safari/537.36'}\n",
    "                res = requests.get(url,headers = headers)\n",
    "                io_csv_info = StringIO(res.text)\n",
    "                io_csv_info.readline() # 讀取第一行(股票代號資訊,我們不需要)\n",
    "                io_csv_info.readline() # columns 內容 我們不需要\n",
    "                while True: #走過每一天\n",
    "                    line = io_csv_info.readline()\n",
    "                #     print(line)\n",
    "                    info_list = line.split('\",\"')\n",
    "                    info_list[0]  = info_list[0].strip('\"')\n",
    "                    info_list[-1] = info_list[-1].strip('\",\\r\\n')\n",
    "                #     info_list\n",
    "        #             print(info_list)\n",
    "                    if '\"說明:\"\\r\\n' in line :\n",
    "                        break\n",
    "\n",
    "                    df = pd.DataFrame([info_list], columns = columns) #每一行建立df \n",
    "                    my_df = my_df.append(df , ignore_index = True) #把每一行的df 添加到我的my_df\n",
    "                truncate(io_csv_info) #清除舊有的記憶體空間資料\n",
    "                time.sleep(20)\n",
    "            my_df.to_csv(save_file_path + f'/{stock}_from_{start_month}_to_{end_month}.csv' , encoding = 'utf-8')\n",
    "            print(f'=====================finished {stock} crawl========================================')\n",
    "            \n",
    "            \n",
    "if __name__ == '__main__':   # 以下內容只會在main 的文本檔執行         \n",
    "    stocks_list = str(input('stocks list (ex:2317,2330,2303)')).split(',')\n",
    "    start_month = str(input('month start (ex:2020-01):'))\n",
    "    end_month   = str(input('month end   (ex:2022-02):'))\n",
    "    save_file_path = str(input('save file path(ex: ./csv_data)'))\n",
    "\n",
    "    #產出月份的區間\n",
    "    months_range = [str(date).replace('-','').split(' ')[0] for date in pd.date_range(start=start_month ,end = end_month,freq = 'MS')]\n",
    "\n",
    "    S=stock(save_file_path) #初始化 會去確認資料夾\n",
    "    S.run(stocks_list,months_range,save_file_path) #爬取股票"
   ]
  },
  {
   "cell_type": "code",
   "execution_count": 11,
   "id": "f244b990",
   "metadata": {},
   "outputs": [
    {
     "data": {
      "text/plain": [
       "'__main__'"
      ]
     },
     "execution_count": 11,
     "metadata": {},
     "output_type": "execute_result"
    }
   ],
   "source": [
    " __name__"
   ]
  },
  {
   "cell_type": "code",
   "execution_count": 4,
   "id": "61bf9f2a",
   "metadata": {},
   "outputs": [
    {
     "name": "stdout",
     "output_type": "stream",
     "text": [
      "123 2583047826744\n",
      "1\u0000ABC 2583047826744\n"
     ]
    }
   ],
   "source": [
    "from io import StringIO\n",
    "# truncate: (位置),\n",
    "s = StringIO()\n",
    "s.write('123')\n",
    "print(str(s.getvalue()), id(s))\n",
    "# s.truncate(1) #意思就是從地0個位置以後作清空\n",
    "s.seek(2) # 此位置之後做繼續複寫\n",
    "s.write('ABC')\n",
    "print(str(s.getvalue()), id(s))"
   ]
  },
  {
   "cell_type": "code",
   "execution_count": 9,
   "id": "63c7e3d2",
   "metadata": {},
   "outputs": [
    {
     "data": {
      "text/plain": [
       "['20220101',\n",
       " '20220201',\n",
       " '20220301',\n",
       " '20220401',\n",
       " '20220501',\n",
       " '20220601',\n",
       " '20220701',\n",
       " '20220801']"
      ]
     },
     "execution_count": 9,
     "metadata": {},
     "output_type": "execute_result"
    }
   ],
   "source": [
    "months_range = [str(date).replace('-','').split(' ')[0] for date in pd.date_range(start=start_month ,end = end_month,freq = 'MS')]\n",
    "months_range"
   ]
  },
  {
   "cell_type": "code",
   "execution_count": 10,
   "id": "4cd85521",
   "metadata": {},
   "outputs": [
    {
     "data": {
      "text/plain": [
       "DatetimeIndex(['2022-01-01', '2022-02-01', '2022-03-01', '2022-04-01',\n",
       "               '2022-05-01', '2022-06-01', '2022-07-01', '2022-08-01'],\n",
       "              dtype='datetime64[ns]', freq='MS')"
      ]
     },
     "execution_count": 10,
     "metadata": {},
     "output_type": "execute_result"
    }
   ],
   "source": [
    " pd.date_range(start=start_month ,end = end_month,freq = 'MS')"
   ]
  },
  {
   "cell_type": "code",
   "execution_count": null,
   "id": "231ce5e4",
   "metadata": {},
   "outputs": [],
   "source": []
  }
 ],
 "metadata": {
  "kernelspec": {
   "display_name": "Python 3",
   "language": "python",
   "name": "python3"
  },
  "language_info": {
   "codemirror_mode": {
    "name": "ipython",
    "version": 3
   },
   "file_extension": ".py",
   "mimetype": "text/x-python",
   "name": "python",
   "nbconvert_exporter": "python",
   "pygments_lexer": "ipython3",
   "version": "3.7.11"
  }
 },
 "nbformat": 4,
 "nbformat_minor": 5
}
