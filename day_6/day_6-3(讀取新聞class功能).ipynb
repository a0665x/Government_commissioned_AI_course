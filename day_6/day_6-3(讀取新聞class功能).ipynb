{
 "cells": [
  {
   "cell_type": "code",
   "execution_count": 2,
   "id": "519dcd29",
   "metadata": {
    "scrolled": true
   },
   "outputs": [
    {
     "name": "stdout",
     "output_type": "stream",
     "text": [
      "百萬網美「性愛片瘋傳」曝悲慘身世！揹千萬債：用身體才可能還清\n",
      "//cdn2.ettoday.net/images/6129/c6129022.jpg\n",
      "======================================\n",
      "男大生偷騎同學26萬黃牌重機　失控自撞爆頭亡…最後身影曝\n",
      "//cdn2.ettoday.net/images/6129/c6129371.jpg\n",
      "======================================\n",
      "精準預言本土病例下降！名醫曝2個月後「迎接新世界」：再努力一下\n",
      "//cdn2.ettoday.net/images/6126/c6126913.jpg\n",
      "======================================\n",
      "水逆來了！唐綺陽點名「4星座」首當其衝　警示：將有戲劇性逆轉\n",
      "//cdn2.ettoday.net/images/6088/c6088266.jpg\n",
      "======================================\n",
      "15年懸案突破了！女友和阿嬤都失蹤　妹控學霸哥藏10多顆人齒\n",
      "//cdn2.ettoday.net/images/6128/c6128119.jpg\n",
      "======================================\n"
     ]
    }
   ],
   "source": [
    "from funs.my_funs import new \n",
    "N = new()\n",
    "N.news_crl(5)"
   ]
  },
  {
   "cell_type": "code",
   "execution_count": null,
   "id": "e4c33949",
   "metadata": {},
   "outputs": [],
   "source": [
    "#請大家實作一下 美食網頁爬取, 我要得到 日本料理 的每一個商品連結, 評價, 最高價格  , 圖片連結\n",
    "# https://tabelog.com/tw/rstLst/japanese/"
   ]
  }
 ],
 "metadata": {
  "kernelspec": {
   "display_name": "Python 3 (ipykernel)",
   "language": "python",
   "name": "python3"
  },
  "language_info": {
   "codemirror_mode": {
    "name": "ipython",
    "version": 3
   },
   "file_extension": ".py",
   "mimetype": "text/x-python",
   "name": "python",
   "nbconvert_exporter": "python",
   "pygments_lexer": "ipython3",
   "version": "3.9.7"
  }
 },
 "nbformat": 4,
 "nbformat_minor": 5
}
