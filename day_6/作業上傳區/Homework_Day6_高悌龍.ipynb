{
 "cells": [
  {
   "cell_type": "code",
   "execution_count": 15,
   "id": "005c604e",
   "metadata": {},
   "outputs": [],
   "source": [
    "import requests\n",
    "from bs4 import BeautifulSoup\n",
    "import pandas as pd\n",
    "import time\n",
    "import random"
   ]
  },
  {
   "cell_type": "code",
   "execution_count": 16,
   "id": "e689a926",
   "metadata": {},
   "outputs": [],
   "source": [
    "#取得最高價格\n",
    "def GetMaxPrice(PriceList):\n",
    "    PriceSplit=[]\n",
    "    for Price in PriceList:    \n",
    "        for onePrice in (str(Price.text).replace('￥','').replace(',','').replace('-','').split('～')):\n",
    "            if len(onePrice)>0:\n",
    "                PriceSplit.append(int(onePrice))\n",
    "            else:\n",
    "                PriceSplit.append(0)\n",
    "    PriceSplit.sort(reverse=True)\n",
    "    return PriceSplit[0]"
   ]
  },
  {
   "cell_type": "code",
   "execution_count": 22,
   "id": "03fc561d",
   "metadata": {},
   "outputs": [],
   "source": [
    "#Parser Web資料\n",
    "def ParserWeb(breakMax):\n",
    "    Name_list=[]\n",
    "    Url_list=[]\n",
    "    Rating_list=[]\n",
    "    PriceList_list=[]\n",
    "    ImageLink_list=[]\n",
    "    MaxPrice_list=[]\n",
    "    page=1\n",
    "    \n",
    "    while True:\n",
    "        try:\n",
    "            url='https://tabelog.com/tw/rstLst/'+str(page)+'/?LstCatD=RC0101&LstCat=RC01&Cat=RC'\n",
    "            header={'User-Agent':'Mozilla/5.0 (Windows NT 10.0; Win64; x64) AppleWebKit/537.36 (KHTML, like Gecko) Chrome/97.0.4692.71 Safari/537.36 Edg/97.0.1072.62'}\n",
    "            response=requests.get(url,headers=header)\n",
    "            print(url+\":\"+str(response))\n",
    "            info=response.content.decode(encoding='utf-8')\n",
    "            soup = BeautifulSoup(info, 'html.parser')\n",
    "\n",
    "            print(f'Now Page:{page}')\n",
    "            page=page+1\n",
    "            \n",
    "            #餐廳清單\n",
    "            restaurants=soup.find_all('li',class_=\"list-rst js-list-item\")\n",
    "\n",
    "            #切割欄位\n",
    "            for restaurant in restaurants:\n",
    "                Name=restaurant.find('small',class_='list-rst__name-ja').text\n",
    "                Url=restaurant.find('a',class_='list-rst__reviews-target').get('href')\n",
    "                Rating=restaurant.find('b',class_='c-rating__val').text\n",
    "                PriceList=restaurant.find_all('span',class_='c-rating__val')\n",
    "                ImageLink=restaurant.find('img',class_='c-img c-img--frame').get('src')\n",
    "                MaxPrice=GetMaxPrice(PriceList)\n",
    "\n",
    "                Name_list.append(Name)\n",
    "                Url_list.append(Url)\n",
    "                Rating_list.append(Rating)\n",
    "                PriceList_list.append(PriceList)\n",
    "                ImageLink_list.append(ImageLink)\n",
    "                MaxPrice_list.append(MaxPrice)\n",
    "\n",
    "            if page>breakMax:\n",
    "                break  \n",
    "            \n",
    "            randomSecond=random.randint(10,15)\n",
    "            print(f'Sleep:{randomSecond}')\n",
    "            time.sleep(randomSecond)                  \n",
    "        except:\n",
    "            print(f'Error發生')\n",
    "    return Name_list,Url_list,Rating_list,PriceList_list,ImageLink_list,MaxPrice_list"
   ]
  },
  {
   "cell_type": "code",
   "execution_count": 23,
   "id": "e0a5b812",
   "metadata": {},
   "outputs": [
    {
     "name": "stdout",
     "output_type": "stream",
     "text": [
      "https://tabelog.com/tw/rstLst/1/?LstCatD=RC0101&LstCat=RC01&Cat=RC:<Response [200]>\n",
      "Now Page:1\n",
      "Sleep:15\n",
      "https://tabelog.com/tw/rstLst/2/?LstCatD=RC0101&LstCat=RC01&Cat=RC:<Response [200]>\n",
      "Now Page:2\n",
      "Sleep:10\n",
      "https://tabelog.com/tw/rstLst/3/?LstCatD=RC0101&LstCat=RC01&Cat=RC:<Response [200]>\n",
      "Now Page:3\n"
     ]
    }
   ],
   "source": [
    "#呼叫抓取\n",
    "ParserWebRtn=ParserWeb(1)"
   ]
  },
  {
   "cell_type": "code",
   "execution_count": 24,
   "id": "306acd81",
   "metadata": {},
   "outputs": [],
   "source": [
    "#輸出到DataFrame\n",
    "df=pd.DataFrame(columns=['Name','Url','Rating','PriceList','ImageLink','MaxPrice'])\n",
    "df['Name']=ParserWebRtn[0]\n",
    "df['Url']=ParserWebRtn[1]\n",
    "df['Rating']=ParserWebRtn[2]\n",
    "df['PriceList']=ParserWebRtn[3]\n",
    "df['ImageLink']=ParserWebRtn[4]\n",
    "df['MaxPrice']=ParserWebRtn[5]"
   ]
  },
  {
   "cell_type": "code",
   "execution_count": null,
   "id": "04dbb032",
   "metadata": {},
   "outputs": [],
   "source": []
  }
 ],
 "metadata": {
  "kernelspec": {
   "display_name": "Python 3 (ipykernel)",
   "language": "python",
   "name": "python3"
  },
  "language_info": {
   "codemirror_mode": {
    "name": "ipython",
    "version": 3
   },
   "file_extension": ".py",
   "mimetype": "text/x-python",
   "name": "python",
   "nbconvert_exporter": "python",
   "pygments_lexer": "ipython3",
   "version": "3.8.12"
  }
 },
 "nbformat": 4,
 "nbformat_minor": 5
}
