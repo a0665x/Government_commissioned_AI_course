{
 "cells": [
  {
   "cell_type": "code",
   "execution_count": 18,
   "id": "1e3f91b0",
   "metadata": {},
   "outputs": [
    {
     "name": "stdout",
     "output_type": "stream",
     "text": [
      "hi\n",
      "hello!!!\n",
      "hello!!!world\n"
     ]
    }
   ],
   "source": [
    "# 第一堂課, 第一個資料型態  字符串 str\n",
    "print( str('hi') )\n",
    "\n",
    "str1 = 'hello!!!'\n",
    "\n",
    "print(str1)\n",
    "\n",
    "str2 = 'world'\n",
    "\n",
    "print(str1+str2)"
   ]
  },
  {
   "cell_type": "code",
   "execution_count": 39,
   "id": "8021f636",
   "metadata": {},
   "outputs": [
    {
     "name": "stdout",
     "output_type": "stream",
     "text": [
      "2251807004528\n",
      "hello!!!\n"
     ]
    },
    {
     "data": {
      "text/plain": [
       "'hello'"
      ]
     },
     "execution_count": 39,
     "metadata": {},
     "output_type": "execute_result"
    }
   ],
   "source": [
    "#id 記憶體儲存位置\n",
    "print(id(str1))\n",
    "print(str1)\n",
    "# str 位置\n",
    "str3 = str1[0:5]\n",
    "str3"
   ]
  },
  {
   "cell_type": "code",
   "execution_count": 91,
   "id": "98df7a86",
   "metadata": {},
   "outputs": [
    {
     "name": "stdout",
     "output_type": "stream",
     "text": [
      "今天是第一天上課= =hello!!! 型態是: <class 'str'>\n",
      "<class 'str'>\n"
     ]
    }
   ],
   "source": [
    "#str 也可以做計算\n",
    "str4 = '今天是第一天上課'\n",
    "str5= str4 + '= =' + str1\n",
    "print(str5 , '型態是:' , type(str5))\n",
    "print(type('='*15))"
   ]
  },
  {
   "cell_type": "code",
   "execution_count": 95,
   "id": "ee389805",
   "metadata": {},
   "outputs": [
    {
     "name": "stdout",
     "output_type": "stream",
     "text": [
      "140703449426096\n",
      "1\n"
     ]
    }
   ],
   "source": [
    "#開始'講解數字(可倍計算)   第二個資料型態  int /float\n",
    "a =10\n",
    "b = 3\n",
    "c1 = a+b  #疊代\n",
    "print(id(c1))\n",
    "c2 = a-b\n",
    "c3 = a*b\n",
    "c4 = a/b   \n",
    "c5 = a//b  #商\n",
    "c6 = a % b #餘數\n",
    "c7 = a**2\n",
    "print(c6)"
   ]
  },
  {
   "cell_type": "code",
   "execution_count": 96,
   "id": "ddfc84ef",
   "metadata": {},
   "outputs": [
    {
     "name": "stdout",
     "output_type": "stream",
     "text": [
      "第一個判別式\n",
      "a大於5\n"
     ]
    }
   ],
   "source": [
    "#判別式\n",
    "a = 10\n",
    "# if a>5 :\n",
    "#     print('a是大於五')\n",
    "# else:\n",
    "#     print('a上述的條件不成立')\n",
    "#多個判別式\n",
    "\n",
    "if a>5:\n",
    "    print('a大於5')\n",
    "elif a>4:\n",
    "    print('a大於4')\n",
    "elif a>3:\n",
    "    print('a大於3')\n",
    "else:\n",
    "    print('以上條件都不符合')\n",
    "    \n"
   ]
  },
  {
   "cell_type": "code",
   "execution_count": 97,
   "id": "8517077d",
   "metadata": {},
   "outputs": [
    {
     "name": "stdout",
     "output_type": "stream",
     "text": [
      "請輸入整數/小數:22\n",
      "a大於10\n"
     ]
    }
   ],
   "source": [
    "a = float(input('請輸入整數/小數:'))\n",
    "if a>10:\n",
    "    print('a大於10')\n",
    "else:\n",
    "    print('a小於10')"
   ]
  },
  {
   "cell_type": "code",
   "execution_count": 75,
   "id": "07ab7c0b",
   "metadata": {},
   "outputs": [
    {
     "name": "stdout",
     "output_type": "stream",
     "text": [
      "<class 'float'>\n"
     ]
    }
   ],
   "source": [
    "print(type(a))"
   ]
  },
  {
   "cell_type": "code",
   "execution_count": 102,
   "id": "5a866f6e",
   "metadata": {},
   "outputs": [
    {
     "data": {
      "text/plain": [
       "list"
      ]
     },
     "execution_count": 102,
     "metadata": {},
     "output_type": "execute_result"
    }
   ],
   "source": [
    "# 第3種資料型態 list 種類 (籃子)\n",
    "list_a = [ '蘋果','香蕉','apple', 22 ]\n",
    "\n",
    "type(list_a)  # [從哪個位置:到哪個位置]"
   ]
  },
  {
   "cell_type": "code",
   "execution_count": 104,
   "id": "1f01e7b0",
   "metadata": {},
   "outputs": [
    {
     "name": "stdout",
     "output_type": "stream",
     "text": [
      "上述條件不成立\n"
     ]
    }
   ],
   "source": [
    "list_a =['香蕉',10,20,'蘋果']\n",
    "if list_a[1] == '香蕉':    # == 就是一種判別式\\:是不是等於     常用判別式: >  ,< ,== , <=,>=  , != \n",
    "    print('第一個條件成立')\n",
    "else:\n",
    "    print('上述條件不成立')\n",
    "\n"
   ]
  },
  {
   "cell_type": "code",
   "execution_count": 110,
   "id": "f5f05afe",
   "metadata": {},
   "outputs": [
    {
     "name": "stdout",
     "output_type": "stream",
     "text": [
      "請下任意整0~100數數字89\n",
      "您的數字在80~90之間\n"
     ]
    }
   ],
   "source": [
    "#今日課程最終範例:\n",
    "gass = int(input('請下任意整0~100數數字'))\n",
    "\n",
    "if gass >= 90:\n",
    "    print('您的數字在90~100之間')\n",
    "elif gass >= 80:\n",
    "    print('您的數字在80~90之間')\n",
    "elif gass >= 50:\n",
    "    print('您的數字在50~80之間')\n",
    "else:\n",
    "    print('您的數字低於50')"
   ]
  },
  {
   "cell_type": "code",
   "execution_count": null,
   "id": "df85bfa9",
   "metadata": {},
   "outputs": [],
   "source": [
    "#今天課程重點:\n",
    "1. 學習到str , int , float ,list (籃子) 的型態 \n",
    "2. 學習到這些元素 位置關係 , str[]的意思就是耀表示第幾個位置\n",
    "3. 學到if elif else 的判斷式關係, 程式碼式一行一行的跑下來, 當當下那行條件成立時, 即執行該條件的內容, 其餘判別式就不跑\n",
    "4. 學到可以自己下變數,input()\n",
    "\n"
   ]
  }
 ],
 "metadata": {
  "kernelspec": {
   "display_name": "Python 3",
   "language": "python",
   "name": "python3"
  },
  "language_info": {
   "codemirror_mode": {
    "name": "ipython",
    "version": 3
   },
   "file_extension": ".py",
   "mimetype": "text/x-python",
   "name": "python",
   "nbconvert_exporter": "python",
   "pygments_lexer": "ipython3",
   "version": "3.8.8"
  }
 },
 "nbformat": 4,
 "nbformat_minor": 5
}
