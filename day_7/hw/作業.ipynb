{
 "cells": [
  {
   "cell_type": "code",
   "execution_count": 1,
   "id": "8be75840",
   "metadata": {},
   "outputs": [
    {
     "name": "stderr",
     "output_type": "stream",
     "text": [
      "C:\\Users\\10903059\\PycharmProjects\\python_course\\my_project\\hw_fun.py:16: GuessedAtParserWarning: No parser was explicitly specified, so I'm using the best available HTML parser for this system (\"html.parser\"). This usually isn't a problem, but if you run this code on another system, or in a different virtual environment, it may use a different parser and behave differently.\n",
      "\n",
      "The code that caused this warning is on line 16 of the file C:\\Users\\10903059\\PycharmProjects\\python_course\\my_project\\hw_fun.py. To get rid of this warning, pass the additional argument 'features=\"html.parser\"' to the BeautifulSoup constructor.\n",
      "\n",
      "  html = BeautifulSoup(res)\n"
     ]
    },
    {
     "name": "stdout",
     "output_type": "stream",
     "text": [
      "看一下餐廳盒子群的個數 20\n",
      "===========爬完了5頁=================\n",
      "看一下餐廳盒子群的個數 20\n",
      "===========爬完了6頁=================\n",
      "看一下餐廳盒子群的個數 20\n",
      "===========爬完了7頁=================\n",
      "看一下餐廳盒子群的個數 8\n",
      "===========爬完了8頁=================\n",
      "看一下餐廳盒子群的個數 0\n"
     ]
    }
   ],
   "source": [
    "from bs4 import BeautifulSoup \n",
    "import requests\n",
    "import pandas as pd\n",
    "from urllib.request import  urlopen\n",
    "import os\n",
    "\n",
    "from hw_fun import rest_crawl_fun\n",
    "\n",
    "R = rest_crawl_fun()\n",
    "df = R.rest_crawl(page=5)\n",
    "df\n",
    "#==============================================================================    \n",
    "if not os.path.exists('food_file'):\n",
    "    os.mkdir('food_file')\n",
    "df.to_csv('./food_file/rest_df.csv', encoding = 'utf-8' , index = False)    "
   ]
  },
  {
   "cell_type": "code",
   "execution_count": null,
   "id": "7ccc300f",
   "metadata": {},
   "outputs": [],
   "source": []
  },
  {
   "cell_type": "code",
   "execution_count": null,
   "id": "e04b6b5d",
   "metadata": {},
   "outputs": [],
   "source": []
  }
 ],
 "metadata": {
  "kernelspec": {
   "display_name": "Python 3 (ipykernel)",
   "language": "python",
   "name": "python3"
  },
  "language_info": {
   "codemirror_mode": {
    "name": "ipython",
    "version": 3
   },
   "file_extension": ".py",
   "mimetype": "text/x-python",
   "name": "python",
   "nbconvert_exporter": "python",
   "pygments_lexer": "ipython3",
   "version": "3.9.7"
  }
 },
 "nbformat": 4,
 "nbformat_minor": 5
}
