{
 "cells": [
  {
   "cell_type": "code",
   "execution_count": 2,
   "id": "0efccb5a",
   "metadata": {},
   "outputs": [
    {
     "name": "stdout",
     "output_type": "stream",
     "text": [
      "請打入要發文的時間(ex:09:10:30):09:41:00\n",
      "請打入要發文的內容(ex:新年快樂):hihi\n",
      "請問是否要繼續設定發文內容[y/n]:y\n",
      "請打入要發文的時間(ex:09:10:30):09:42:00\n",
      "請打入要發文的內容(ex:新年快樂):haha\n",
      "請問是否要繼續設定發文內容[y/n]:n\n"
     ]
    },
    {
     "name": "stderr",
     "output_type": "stream",
     "text": [
      "C:\\Users\\10903059\\AppData\\Local\\Temp/ipykernel_25300/955154906.py:32: DeprecationWarning: executable_path has been deprecated, please pass in a Service object\n",
      "  driver = webdriver.Chrome(chrom_driver_path, chrome_options = opt)\n",
      "C:\\Users\\10903059\\AppData\\Local\\Temp/ipykernel_25300/955154906.py:32: DeprecationWarning: use options instead of chrome_options\n",
      "  driver = webdriver.Chrome(chrom_driver_path, chrome_options = opt)\n",
      "C:\\Users\\10903059\\AppData\\Local\\Temp/ipykernel_25300/955154906.py:37: DeprecationWarning: find_element_by_* commands are deprecated. Please use find_element() instead\n",
      "  id_box = driver.find_element_by_id('email')\n",
      "C:\\Users\\10903059\\AppData\\Local\\Temp/ipykernel_25300/955154906.py:40: DeprecationWarning: find_element_by_* commands are deprecated. Please use find_element() instead\n",
      "  pw_box = driver.find_element_by_id('pass')\n"
     ]
    },
    {
     "name": "stdout",
     "output_type": "stream",
     "text": [
      "帳號輸入完成\n",
      "密碼輸入完成\n"
     ]
    },
    {
     "name": "stderr",
     "output_type": "stream",
     "text": [
      "C:\\Users\\10903059\\AppData\\Local\\Temp/ipykernel_25300/955154906.py:46: DeprecationWarning: find_element_by_* commands are deprecated. Please use find_element() instead\n",
      "  login_box = driver.find_element_by_name('login')\n"
     ]
    },
    {
     "name": "stdout",
     "output_type": "stream",
     "text": [
      "點擊登入完成\n"
     ]
    },
    {
     "name": "stderr",
     "output_type": "stream",
     "text": [
      "C:\\Users\\10903059\\AppData\\Local\\Temp/ipykernel_25300/955154906.py:57: DeprecationWarning: find_element_by_* commands are deprecated. Please use find_element() instead\n",
      "  com = driver.find_element_by_xpath(x_path)\n"
     ]
    },
    {
     "name": "stdout",
     "output_type": "stream",
     "text": [
      "已點選發文欄位..\n"
     ]
    },
    {
     "name": "stderr",
     "output_type": "stream",
     "text": [
      "C:\\Users\\10903059\\AppData\\Local\\Temp/ipykernel_25300/955154906.py:63: DeprecationWarning: find_element_by_* commands are deprecated. Please use find_element() instead\n",
      "  inner_com = driver.find_element_by_xpath(x_path_inner)\n",
      "C:\\Users\\10903059\\AppData\\Local\\Temp/ipykernel_25300/955154906.py:70: DeprecationWarning: find_element_by_* commands are deprecated. Please use find_element() instead\n",
      "  inner_login = driver.find_element_by_xpath(x_path_inner_login)\n"
     ]
    },
    {
     "name": "stdout",
     "output_type": "stream",
     "text": [
      "已填寫完成\n",
      "點擊發出文章\n",
      "已點選發文欄位..\n",
      "已填寫完成\n",
      "點擊發出文章\n"
     ]
    }
   ],
   "source": [
    "from selenium import webdriver #啟動控制我們的driver \n",
    "from selenium.webdriver.common.keys import Keys #模擬使用鍵盤\n",
    "from selenium.webdriver.chrome.options import Options # 可以對網頁開啟時,做一些篩選,例如關閉開啟網頁的自動翻譯/詢問\n",
    "import time\n",
    "from datetime import datetime\n",
    "#==================Explicit Waits=====(等待driver運作,直到某個特徵出現為止)========================\n",
    "from selenium.webdriver.common.by import By\n",
    "from selenium.webdriver.support.ui import WebDriverWait\n",
    "from selenium.webdriver.support import expected_conditions as EC\n",
    "\n",
    "from fb_password import pass_word\n",
    "\n",
    "# texts = [('09:15:30','新年快樂'),('09:16:30','第二次發文')]\n",
    "texts = []\n",
    "while True:\n",
    "    post_time = str(input('請打入要發文的時間(ex:09:10:30):'))\n",
    "    post_text = str(input('請打入要發文的內容(ex:新年快樂):'))\n",
    "    texts.append((post_time,post_text))\n",
    "    \n",
    "    stop_continue = str(input('請問是否要繼續設定發文內容[y/n]:'))\n",
    "    if stop_continue == 'n':\n",
    "        break\n",
    "    \n",
    "    \n",
    "\n",
    "chrom_driver_path = './chromedriver.exe'\n",
    "url = 'https://www.facebook.com/'\n",
    "\n",
    "opt = Options()\n",
    "opt.add_argument('--disable-notifications') #禁止彈出詢問視窗\n",
    "\n",
    "driver = webdriver.Chrome(chrom_driver_path, chrome_options = opt)\n",
    "driver.get(url) # 得到url資訊\n",
    "driver.maximize_window()\n",
    "time.sleep(2)\n",
    "#找到帳號密碼的欄位\n",
    "id_box = driver.find_element_by_id('email')\n",
    "id_box.send_keys('ebyayaebebya@hotmail.com')\n",
    "print('帳號輸入完成')\n",
    "pw_box = driver.find_element_by_id('pass')\n",
    "my_ps = pass_word()\n",
    "pw_box.send_keys(my_ps) #自行輸入自己的密碼\n",
    "print('密碼輸入完成')\n",
    "time.sleep(2)\n",
    "#按登入按鈕\n",
    "login_box = driver.find_element_by_name('login')\n",
    "login_box.click()\n",
    "print('點擊登入完成')\n",
    "time.sleep(5)\n",
    "cpk = False\n",
    "#開始發文:\n",
    "while True:\n",
    "    curr_now = str(datetime.now().strftime(\"%H:%M:%S\"))\n",
    "    for idx , (post_time , t) in enumerate(texts):\n",
    "        \n",
    "        if post_time == curr_now:\n",
    "            x_path = '/html/body/div[1]/div/div[1]/div/div[3]/div/div/div[1]/div[1]/div/div[2]/div/div/div/div[3]/div/div[2]/div/div/div/div[1]/div/div[1]/span'\n",
    "            com = driver.find_element_by_xpath(x_path)\n",
    "            # com = driver.find_element_by_class_name('a8c37x1j')\n",
    "            com.click()\n",
    "            print('已點選發文欄位..')\n",
    "            time.sleep(3)\n",
    "            x_path_inner = '/html/body/div[1]/div/div[1]/div/div[4]/div/div/div[1]/div/div[2]/div/div/div/form/div/div[1]/div/div/div/div[2]/div[1]/div[1]/div[1]/div/div/div/div/div/div/div[2]/div/div/div/div'\n",
    "            inner_com = driver.find_element_by_xpath(x_path_inner)\n",
    "\n",
    "\n",
    "            inner_com.send_keys(t)\n",
    "            print('已填寫完成')\n",
    "\n",
    "            x_path_inner_login = '/html/body/div[1]/div/div[1]/div/div[4]/div/div/div[1]/div/div[2]/div/div/div/form/div/div[1]/div/div/div/div[3]/div[2]/div/div/div[1]/div/span/span'\n",
    "            inner_login = driver.find_element_by_xpath(x_path_inner_login)\n",
    "            inner_login.click()\n",
    "            print('點擊發出文章')\n",
    "        \n",
    "            if texts[idx] == texts[-1]:\n",
    "                cpk = True\n",
    "                break\n",
    "    if cpk == True:\n",
    "        break\n",
    "\n"
   ]
  },
  {
   "cell_type": "code",
   "execution_count": 6,
   "id": "b4daca72",
   "metadata": {},
   "outputs": [],
   "source": [
    "# !pip install Pillow\n",
    "from PIL import Image\n",
    "filename = r'fb.jpg'\n",
    "img = Image.open(filename)\n",
    "img.save('fb.ico',format = 'ICO', sizes=[(32,32)])"
   ]
  },
  {
   "cell_type": "code",
   "execution_count": null,
   "id": "41c39f8d",
   "metadata": {},
   "outputs": [],
   "source": []
  },
  {
   "cell_type": "code",
   "execution_count": null,
   "id": "e5f0b66d",
   "metadata": {},
   "outputs": [],
   "source": []
  }
 ],
 "metadata": {
  "kernelspec": {
   "display_name": "Python 3 (ipykernel)",
   "language": "python",
   "name": "python3"
  },
  "language_info": {
   "codemirror_mode": {
    "name": "ipython",
    "version": 3
   },
   "file_extension": ".py",
   "mimetype": "text/x-python",
   "name": "python",
   "nbconvert_exporter": "python",
   "pygments_lexer": "ipython3",
   "version": "3.9.7"
  }
 },
 "nbformat": 4,
 "nbformat_minor": 5
}
