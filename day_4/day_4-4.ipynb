{
 "cells": [
  {
   "cell_type": "code",
   "execution_count": null,
   "id": "496f235e",
   "metadata": {},
   "outputs": [],
   "source": [
    "# !pip install pyautogui\n",
    "# !pip install keyboard"
   ]
  },
  {
   "cell_type": "code",
   "execution_count": null,
   "id": "9a344100",
   "metadata": {
    "scrolled": true
   },
   "outputs": [],
   "source": [
    "import  os\n",
    "import  time\n",
    "import pyautogui as pag\n",
    "import keyboard\n",
    "if not os.path.exists('./my_positions_file'):\n",
    "    os.makedirs('./my_positions_file')\n",
    "try:\n",
    "    while True:\n",
    "        # print(\"Press Ctrl-C to end\")\n",
    "        screenWidth, screenHeight = pag.size()  #獲取螢幕的尺寸\n",
    "        # print(screenWidth,screenHeight)\n",
    "        x,y = pag.position()   #獲取當前滑鼠的位置\n",
    "        position = [x,y]\n",
    "        posStr = \"now_Position:\" + str(x).rjust(4)+','+str(y).rjust(4)\n",
    "        print(posStr)\n",
    "        if keyboard.read_key() == \"s\":\n",
    "            step = str(input('請輸入滑鼠目前的動作資訊:'))\n",
    "            print('儲存位置資訊:',str(position))\n",
    "            File_object = open('my_positions_file/x_y.txt', 'a')\n",
    "            File_object.write(str(position) + step + \"\\r\")\n",
    "            File_object.close()\n",
    "        time.sleep(0.2)\n",
    "        os.system('cls')   #清楚螢幕\n",
    "except KeyboardInterrupt:\n",
    "    print('end....')\n",
    "#開始做動作會用到的位置 \n",
    "#step1: 點擊新增葉面 2.點擊圖片搜尋  3. 移到選擇欄位  4.輸入 狗  5. 移到第一章圖  6. 案右鍵 7.存檔"
   ]
  },
  {
   "cell_type": "code",
   "execution_count": null,
   "id": "be029fb9",
   "metadata": {},
   "outputs": [],
   "source": [
    "#清除數據\n",
    "import  os\n",
    "# os.remove('my_positions_file/x_y.txt')"
   ]
  },
  {
   "cell_type": "code",
   "execution_count": null,
   "id": "1213fe11",
   "metadata": {},
   "outputs": [],
   "source": [
    "path = 'my_positions_file/x_y.txt'\n",
    "f = open(path, 'r')\n",
    "for line in f.readlines():\n",
    "    print(line)\n",
    "f.close\n"
   ]
  },
  {
   "cell_type": "code",
   "execution_count": 1,
   "id": "b5a886a2",
   "metadata": {},
   "outputs": [
    {
     "name": "stdout",
     "output_type": "stream",
     "text": [
      "step1 done\n",
      "step2 done\n",
      "step3 done\n",
      "step4 done\n",
      "step5 done\n"
     ]
    }
   ],
   "source": [
    "import pyautogui\n",
    "#step 移動到圖片搜尋\n",
    "pyautogui.moveTo(1748, 145,duration=3) \n",
    "pyautogui.click() \n",
    "print('step1 done')\n",
    "#step 點選搜尋欄位,並且打入dog\n",
    "pyautogui.moveTo(1196, 460,duration=3) \n",
    "pyautogui.click() \n",
    "pyautogui.PAUSE = 1.5\n",
    "pyautogui.typewrite('dog')\n",
    "pyautogui.press('enter')\n",
    "print('step2 done')\n",
    "# 移動到第一張狗的位置並案右鍵\n",
    "pyautogui.PAUSE = 2.5\n",
    "pyautogui.moveTo(1242, 418,duration=3) \n",
    "pyautogui.PAUSE = 1.5\n",
    "pyautogui.click(button='right') \n",
    "print('step3 done')\n",
    "# 移動到儲存顯示\n",
    "pyautogui.moveTo(1352, 721,duration=3) \n",
    "pyautogui.PAUSE = 1.5\n",
    "pyautogui.click() \n",
    "print('step4 done')\n",
    "# #移動到儲存按鈕\n",
    "pyautogui.moveTo(1705, 555,duration=3) \n",
    "pyautogui.PAUSE = 1.5\n",
    "pyautogui.click() \n",
    "print('step5 done')"
   ]
  },
  {
   "cell_type": "code",
   "execution_count": null,
   "id": "bb33770e",
   "metadata": {},
   "outputs": [],
   "source": []
  }
 ],
 "metadata": {
  "kernelspec": {
   "display_name": "Python 3 (ipykernel)",
   "language": "python",
   "name": "python3"
  },
  "language_info": {
   "codemirror_mode": {
    "name": "ipython",
    "version": 3
   },
   "file_extension": ".py",
   "mimetype": "text/x-python",
   "name": "python",
   "nbconvert_exporter": "python",
   "pygments_lexer": "ipython3",
   "version": "3.9.7"
  }
 },
 "nbformat": 4,
 "nbformat_minor": 5
}
